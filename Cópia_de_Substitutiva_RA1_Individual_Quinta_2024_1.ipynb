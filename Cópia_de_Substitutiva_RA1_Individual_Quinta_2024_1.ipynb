{
  "nbformat": 4,
  "nbformat_minor": 0,
  "metadata": {
    "colab": {
      "provenance": [],
      "include_colab_link": true
    },
    "kernelspec": {
      "name": "python3",
      "display_name": "Python 3"
    },
    "language_info": {
      "name": "python"
    }
  },
  "cells": [
    {
      "cell_type": "markdown",
      "metadata": {
        "id": "view-in-github",
        "colab_type": "text"
      },
      "source": [
        "<a href=\"https://colab.research.google.com/github/vitorNicoletti/ProvaModelagem/blob/main/C%C3%B3pia_de_Substitutiva_RA1_Individual_Quinta_2024_1.ipynb\" target=\"_parent\"><img src=\"https://colab.research.google.com/assets/colab-badge.svg\" alt=\"Open In Colab\"/></a>"
      ]
    },
    {
      "cell_type": "markdown",
      "source": [
        "# Avaliação De Recuperação INDIVIDUAL RA1 - 2024-1 (substitutiva)\n",
        "\n",
        "**Antes de começar, leia estas instruções cuidadosamente.**\n",
        "Esta avaliação é individual. Você poderá consultar qualquer fonte disponível na biblioteca, suas anotações ou na internet. Mas, não poderá consultar outras pessoas.\n",
        "\n",
        "Não existirão prorrogações de prazo de entrega.\n",
        "\n",
        "**Trabalhos contendo partes idênticas entregues por pessoas, diferentes, serão zerados.**\n",
        "\n",
        "Todos os trabalhos serão entregues em uma cópia deste caderno de atividades na forma de um link postado no AVA da instituição (Canvas). Todos os enunciados devem ser preservados e você deverá inserir uma célula de textos com o **seu nome**, logo após esta célula de texto de instruções.\n",
        "\n",
        "Qualquer alteração do caderno contendo as suas respostas que seja registrada após a data de postagem provocará a anulação da avaliação.\n",
        "\n",
        "Você poderá usar, neste notebook, apenas a linguagem python limitada ao uso das seguintes bibliotecas: numpy, sympy, matplotlib, ipWidgets e IPython. Todo e qualquer gráfico deverá ser criado usando o Python.\n",
        "\n",
        "Entrega será realizada com a postagem de um link para um ambiente de execução, no AVA da institução. Neste link o seu caderno deve permitir ser executado (permissão de leitor). Serão aceitos links diretos ao ambiente do Google Colaboratory, ou Links a um caderno do Google Colaboratory que tenha sido salvo pelo próprio Google Colaboratory no GitHub. Links para outro ambiente, ou que requeiram qualquer tipo de download, cliques extras, ou ainda, que requeiram aprovação para acesso, provocarão o zeramento desta avaliação.\n",
        "\n",
        "Todas as suas simplificações e considerações serão levadas em consideração. Contudo, lembre-se que estas questões devem ser resolvidas com álgebra formal e apenas álgebra.\n",
        "\n",
        "Se você encontrar algo errado nesta avaliação simplesmente anote suas observações na própria questão. Suas observações serão consideradas durante a avaliação e, em caso de pertinência, poderão encejar a anulação do item, ou questão, a critério do professor.\n",
        "\n",
        "Não é permitido usar qualquer técnica matemática baseada em derivação, cálculo numérico, séries de Taylor ou Leibntz, ou que fuja dos conteúdos apresenados em aula referentes ao estudo dos conteúdos referentes a esta avaliação.\n",
        "\n",
        "Esta avaliação aborda os conteúdos referentes a limites, fórmula das diferenças finitas e tangentes.\n",
        "\n",
        "**Lembrem-se a interpretação faz parte da questão.**\n"
      ],
      "metadata": {
        "id": "IYWLM47FgvAt"
      }
    },
    {
      "cell_type": "markdown",
      "source": [
        "Vitor Nicoletti"
      ],
      "metadata": {
        "id": "L8FEuUGNdFFN"
      }
    },
    {
      "cell_type": "code",
      "source": [
        "import matplotlib.pyplot as plt\n",
        "import numpy as np\n",
        "import sympy as sp\n",
        "from IPython.display import display, Math\n",
        "from sympy import oo\n",
        "x = sp.symbols('x')\n",
        "\n",
        "def criarGraficoELimitesLaterais(funcao,ponto_limite):\n",
        "  # Calcula o limite da função no ponto desejado\n",
        "  limite = calculaLimite(funcao,ponto_limite)\n",
        "  plotarGrafico(funcao,ponto_limite,limite)\n",
        "  print(\"ANALISE LATERAL: \")\n",
        "  tabela_latex = criarAnaliseLateral(funcao,ponto_limite)\n",
        "  display(Math(tabela_latex))\n",
        "\n",
        "\n",
        "\n",
        "\n",
        "def criar_pontos_aproximacao(ponto_limite, distancia=[0.1, 0.01, 0.001, 0.0001, 0.00001]):\n",
        "  pontos_esquerda = [ponto_limite - d for d in distancia]\n",
        "  pontos_direita = [ponto_limite + d for d in distancia]\n",
        "  return pontos_esquerda, pontos_direita\n",
        "\n",
        "\n",
        "def calculaLimite(funcao,ponto_limite):\n",
        "  limite = sp.limit(funcao, x, ponto_limite)\n",
        "  print(limite)\n",
        "  return limite\n",
        "\n",
        "def criaPontoStartFinal(ponto_limite):\n",
        "  if ponto_limite >= 0:\n",
        "    x_start = ponto_limite - (ponto_limite + 1)\n",
        "    x_stop = ponto_limite + ponto_limite +1\n",
        "  else:\n",
        "    x_start = ponto_limite + ponto_limite - 1\n",
        "    x_stop = ponto_limite - (ponto_limite -1)\n",
        "  return x_start, x_stop\n",
        "\n",
        "def criaXYvalues(funcao,ponto_limite):\n",
        "  x_start, x_stop = criaPontoStartFinal(ponto_limite)\n",
        "  x_vals = np.linspace(x_start, x_stop, 400)\n",
        "  y_vals = [sp.lambdify(x, funcao)(x_val) for x_val in x_vals]\n",
        "  return x_vals, y_vals\n",
        "\n",
        "def plotarGrafico(funcao, ponto_limite, limite):\n",
        "    # Plota a função\n",
        "    x_vals, y_vals = criaXYvalues(funcao, ponto_limite)\n",
        "    funcao_latex = sp.latex(funcao)  # Converte a expressão da função para formato LaTeX\n",
        "    plt.plot(x_vals, y_vals, label=f'$f(x) = {funcao_latex}$')  # Adiciona a função como legenda formatada em LaTeX\n",
        "    plt.scatter([ponto_limite], [limite], s=30, facecolors='white', edgecolors='black')\n",
        "    plt.text(ponto_limite + 0.1, limite - 0.3, f'({ponto_limite}, {limite})', fontsize=10)\n",
        "    # Ativa a grade\n",
        "    plt.grid(True, which='both', axis='both', color='lightgray', linestyle='-', linewidth=0.5)\n",
        "    # Ajusta os limites dos eixos para melhor visualização\n",
        "    x_start, x_stop = criaPontoStartFinal(ponto_limite)\n",
        "    plt.xlim(x_start, x_stop)\n",
        "    plt.ylim(min(y_vals)-2, max(y_vals)+1)\n",
        "    plt.legend()  # Adiciona a legenda\n",
        "\n",
        "    plt.show()\n",
        "\n",
        "def criarAnaliseLateral(funcao,ponto_limite):\n",
        "  pontos_esquerda, pontos_direita = criar_pontos_aproximacao(ponto_limite)\n",
        "  # Recalculando os valores de f(x) para os pontos à esquerda e à direita\n",
        "  valores_esquerda = [funcao.subs(x, ponto).evalf() for ponto in pontos_esquerda]\n",
        "  valores_direita = [funcao.subs(x, ponto).evalf() for ponto in pontos_direita]\n",
        "  # Preparando a saída em formato de tabela novamente\n",
        "  tabela_latex = \"\\\\begin{array}{|c|c|c|c|}\\n\"\n",
        "  tabela_latex += \"\\\\hline\\n\"\n",
        "  tabela_latex += \"\\\\text{Aprox. à Esquerda} & \\\\text{Valor} & \\\\text{Aprox. à Direita} & \\\\text{Valor} \\\\\\\\\\n\"\n",
        "  tabela_latex += \"\\\\hline\\n\"\n",
        "  for i in range(len(pontos_esquerda)):\n",
        "    tabela_latex += f\"{pontos_esquerda[i]:.5f} & {valores_esquerda[i]:.5f} & {pontos_direita[i]:.5f} & {valores_direita[i]:.5f} \\\\\\\\\\n\"\n",
        "  tabela_latex += \"\\\\hline\\n\"\n",
        "  tabela_latex += \"\\\\end{array}\"\n",
        "  return tabela_latex\n",
        "\n"
      ],
      "metadata": {
        "id": "g_xq0tEwdHQK"
      },
      "execution_count": 8,
      "outputs": []
    },
    {
      "cell_type": "markdown",
      "source": [
        "## Questões\n",
        "Usando apenas álgebra encontre o limites solicitados a seguir e faça uma análise dos resultados encontrados. Para fazer a análise você pode usar as ferramentas que desejar, desde que seja possível verificar a validade das suas afirmações usando apenas este caderno de avaliação.\n",
        "\n",
        "Lembre-se você deve usar notação matemática na sua resposta. O que implica no uso de Latex nas células de texto deste caderno de avaliação.\n",
        "\n",
        "Observe que o cálculo do valor de tendência do limite, usando uma calculadora, site, ou ferramenta qualquer, por si só não pode ser usado como argumento na sua análise. Isso quer dizer que justificativas como o limite é $w$ porque o Sympy disse que era esse valor, não serão aceitas.\n",
        "\n",
        "### Exercício 1\n",
        "$$ \\lim_{x \\to 0} \\frac{\\sqrt{x+9} - 3}{x} $$\n",
        "\n",
        "Substituindo x por 0 temos:\n",
        "$$\\frac{0}{0}$$\n",
        "\n",
        "Por conta da indeterminação, tentamos simplificar primeiro, por racionalização\n",
        "\n",
        "$$ \\lim_{x \\to 0} \\frac{\\sqrt{x+9} - 3}{x} . \\frac{\\sqrt{x+9} + 3}{\\sqrt{x+9} + 3}$$\n",
        "\n",
        "$$ \\lim_{x \\to 0} \\frac{3.\\sqrt{x+9}-3.\\sqrt{x+9}+x+9-9}{x.(\\sqrt{x+9} + 3)} $$\n",
        "$$ \\lim_{x \\to 0} \\frac{1}{\\sqrt{x+9} + 3} $$\n",
        "\n",
        "Substituindo x por 0 agora temos:\n",
        "\n",
        "$$ \\lim_{x \\to 0} \\frac{1}{\\sqrt{0+9} + 3} $$\n",
        "\n",
        "$$ \\lim_{x \\to 0} \\frac{1}{6} $$\n",
        "\n",
        "Resposta:\n",
        "$$\\frac{1}{6}$$\n"
      ],
      "metadata": {
        "id": "OE828dMab9v1"
      }
    },
    {
      "cell_type": "code",
      "source": [
        "import sympy\n",
        "expr = (sympy.sqrt(x+9)-3)/x\n",
        "ponto_limite = 0\n",
        "criarGraficoELimitesLaterais(expr,ponto_limite)"
      ],
      "metadata": {
        "colab": {
          "base_uri": "https://localhost:8080/",
          "height": 587
        },
        "id": "PXAvh6GSj0tI",
        "outputId": "c9d3f4e9-b4c0-4ff8-805e-2e52657bfc34"
      },
      "execution_count": 10,
      "outputs": [
        {
          "output_type": "stream",
          "name": "stdout",
          "text": [
            "1/6\n"
          ]
        },
        {
          "output_type": "display_data",
          "data": {
            "text/plain": [
              "<Figure size 640x480 with 1 Axes>"
            ],
            "image/png": "[encoded data removed]"
          },
          "metadata": {}
        },
        {
          "output_type": "stream",
          "name": "stdout",
          "text": [
            "ANALISE LATERAL: \n"
          ]
        },
        {
          "output_type": "display_data",
          "data": {
            "text/plain": [
              "<IPython.core.display.Math object>"
            ],
            "text/latex": "$\\displaystyle \\begin{array}{|c|c|c|c|}\n\\hline\n\\text{Aprox. à Esquerda} & \\text{Valor} & \\text{Aprox. à Direita} & \\text{Valor} \\\\\n\\hline\n-0.10000 & 0.16713 & 0.10000 & 0.16621 \\\\\n-0.01000 & 0.16671 & 0.01000 & 0.16662 \\\\\n-0.00100 & 0.16667 & 0.00100 & 0.16666 \\\\\n-0.00010 & 0.16667 & 0.00010 & 0.16667 \\\\\n-0.00001 & 0.16667 & 0.00001 & 0.16667 \\\\\n\\hline\n\\end{array}$"
          },
          "metadata": {}
        }
      ]
    },
    {
      "cell_type": "markdown",
      "source": [
        " O resultado do limite condiz com as analises laterais e a analise do ponto no grafico."
      ],
      "metadata": {
        "id": "tMpBi267pxYf"
      }
    },
    {
      "cell_type": "markdown",
      "source": [
        "\n",
        "### Exercício 2\n",
        "$$ \\lim_{x \\to \\infty} \\frac{25x + 7}{\\sqrt{5x^2 + 2}} $$\n",
        "\n",
        "Substituindo por infinito positivo:\n",
        "\n",
        "$$ \\lim_{x \\to \\infty} \\frac{\\infty}{\\sqrt{\\infty}} $$\n",
        "\n",
        "Como o resultado e uma indeterminacao, tentemos simplificar a expressao:\n",
        "$$ \\lim_{x \\to \\infty} \\frac{25 + \\frac{7}{x}}{\\sqrt{5 + \\frac{2}{x^2}}} $$\n",
        "\n",
        "\n",
        "Partindo do princípio que:\n",
        "\n",
        "$$lim_{x \\to z} \\frac{a}{b} = \\frac{lim_{x \\to z}a}{lim_{x \\to z}b}$$\n",
        "\n",
        "$$  \\frac{\\lim_{x \\to \\infty}(25 + \\frac{7}{x})}{\\lim_{x \\to \\infty}(\\sqrt{5 + \\frac{2}{x^2}})} $$\n",
        "Substituindo por infinito positivo:\n",
        "$$\\lim_{x \\to \\infty}(25 + \\frac{7}{\\infty}) = 25$$\n",
        "\n",
        "$$\\lim_{x \\to \\infty}(\\sqrt{5 + \\frac{2}{x^2}})= \\sqrt{5}$$\n",
        "\n",
        "Portanto:\n",
        "\n",
        "$$ \\lim_{x \\to \\infty} \\frac{25x + 7}{\\sqrt{5x^2 + 2}} = \\frac{25}{\\sqrt{5}}$$\n",
        "\n",
        "Simplificando:\n",
        "\n",
        "$$= \\frac{\\sqrt{5}.\\sqrt{5}.5}{\\sqrt{5}}$$\n",
        "$$= 5.\\sqrt{5}$$\n",
        "\n",
        "Resultado:\n",
        "$$ 5.\\sqrt{5}$$\n",
        "\n",
        "\n",
        "\n",
        "\n",
        "\n",
        "\n"
      ],
      "metadata": {
        "id": "Vb1xuyzlcCaf"
      }
    },
    {
      "cell_type": "code",
      "source": [
        "import sympy as sp\n",
        "import matplotlib.pyplot as plt\n",
        "import numpy as np\n",
        "\n",
        "x = sp.symbols('x')\n",
        "expr = (25*x +7) /(sympy.sqrt(5*(x**2)+2))\n",
        "\n",
        "x_values = np.linspace(10**39, 10**69, 1000)\n",
        "\n",
        "y_values = [sp.N(expr.subs(x, val)) for val in x_values]\n",
        "\n",
        "# Plot the graph\n",
        "plt.plot(x_values, y_values)\n",
        "plt.xlabel('x')\n",
        "plt.ylabel('f(x)')\n",
        "plt.title('Plot of the expression')\n",
        "plt.grid(True)\n",
        "plt.show()"
      ],
      "metadata": {
        "colab": {
          "base_uri": "https://localhost:8080/",
          "height": 472
        },
        "id": "7zdKrXaCqbEF",
        "outputId": "3642b9da-911f-4683-b48d-1f7a77767296"
      },
      "execution_count": 14,
      "outputs": [
        {
          "output_type": "display_data",
          "data": {
            "text/plain": [
              "<Figure size 640x480 with 1 Axes>"
            ],
            "image/png": "[encoded data removed]"
          },
          "metadata": {}
        }
      ]
    },
    {
      "cell_type": "code",
      "source": [
        "import sympy\n",
        "def criar_pontos_aproximacao(ponto_limite):\n",
        "  distancia=[ponto_limite*2, ponto_limite*4, ponto_limite*6, ponto_limite*8, ponto_limite*10]\n",
        "\n",
        "  pontos_direita = [ponto_limite + d for d in distancia]\n",
        "  return pontos_direita\n",
        "\n",
        "def criarAnaliseLateral(funcao,ponto_limite):\n",
        "  pontos_direita = criar_pontos_aproximacao(ponto_limite)\n",
        "  # Recalculando os valores de f(x) para os pontos à esquerda e à direita\n",
        "\n",
        "  valores_direita = [funcao.subs(x, ponto).evalf() for ponto in pontos_direita]\n",
        "  # Preparando a saída em formato de tabela novamente\n",
        "  tabela_latex = \"\\\\begin{array}{|c|c|}\\n\"\n",
        "  tabela_latex += \"\\\\hline\\n\"\n",
        "  tabela_latex += \"\\\\text{Aprox. à Direita} & \\\\text{Valor} \\\\\\\\\\n\"\n",
        "  tabela_latex += \"\\\\hline\\n\"\n",
        "\n",
        "  for i in range(len(pontos_direita)):\n",
        "    tabela_latex += f\"{pontos_direita[i]:.5f} & {valores_direita[i]:.5f} \\\\\\\\\\n\"\n",
        "  tabela_latex += \"\\\\hline\\n\"\n",
        "  tabela_latex += \"\\\\end{array}\"\n",
        "  return tabela_latex\n",
        "\n",
        "\n",
        "expr = (25*x +7) /(sympy.sqrt(5*(x**2)+2))\n",
        "\n",
        "display(Math(criarAnaliseLateral(expr,9*10**50)))"
      ],
      "metadata": {
        "colab": {
          "base_uri": "https://localhost:8080/",
          "height": 140
        },
        "id": "rmxDoeHuojhD",
        "outputId": "c15df6d9-1835-4fb0-a0ba-15d9e661096f"
      },
      "execution_count": 12,
      "outputs": [
        {
          "output_type": "display_data",
          "data": {
            "text/plain": [
              "<IPython.core.display.Math object>"
            ],
            "text/latex": "$\\displaystyle \\begin{array}{|c|c|}\n\\hline\n\\text{Aprox. à Direita} & \\text{Valor} \\\\\n\\hline\n2699999999999999915235161631530601891256259779231744.00000 & 11.18034 \\\\\n4499999999999999969494269034627325894077687988748288.00000 & 11.18034 \\\\\n6299999999999999691446377491495081670947351128178688.00000 & 11.18034 \\\\\n8099999999999999413398485948362837447817014267609088.00000 & 11.18034 \\\\\n9900000000000000464578590190146466128493737687384064.00000 & 11.18034 \\\\\n\\hline\n\\end{array}$"
          },
          "metadata": {}
        }
      ]
    },
    {
      "cell_type": "markdown",
      "source": [
        "considerando que a aproximacao de raiz de 5 e 2.24, o resultado da analise lateral e a analise do grafico condiz com o calculo do limite."
      ],
      "metadata": {
        "id": "zI9_JjG7pQFb"
      }
    },
    {
      "cell_type": "markdown",
      "source": [
        "\n",
        "### Exercício 3\n",
        "$$\n",
        "\\lim_{x \\to 1} f(x) \\text{ onde } f(x) = \\begin{cases}\n",
        "2x+1 & x \\leq 1 \\\\\n",
        "x^2 + 1 & x > 1\n",
        "\\end{cases}\n",
        "$$\n",
        "\n",
        "\n",
        "Como nesse exercício nós temos dois comportamentos diferentes na aproximação pela esquerda ou pela direita, não haverá apenas um limite, e sim dois diferentes dependendo da aproximação.\n",
        "\n",
        "Pela esquerda:\n",
        "\n",
        "$$\\lim_{x \\to 1} 2x + 1$$\n",
        "\n",
        "Substituindo x por 1:\n",
        "\n",
        "$$\\lim_{x \\to 1} 3$$\n",
        "\n",
        "Limite aproximação pela esquerda:\n",
        "\n",
        "$$3$$\n",
        "\n",
        "Pela direita:\n",
        "\n",
        "$$\\lim_{x \\to 1} x^2 + 1$$\n",
        "\n",
        "Substituindo x por 1:\n",
        "\n",
        "$$\\lim_{x \\to 1} 2$$\n",
        "\n",
        "Limite aproximação pela direita:\n",
        "\n",
        "$$2$$\n",
        "\n",
        "\n"
      ],
      "metadata": {
        "id": "aabCsm5BcGLo"
      }
    },
    {
      "cell_type": "code",
      "source": [
        "def plotarGraficosEsquerdaDireita(funcaoEsq,funcaoDir,ponto_limite,limite):\n",
        "    # Plota a função\n",
        "    x_vals, y_vals = criaXYvalues(funcaoEsq, ponto_limite)\n",
        "    x_vals_Esq = x_vals[:200]\n",
        "    y_vals_Esq = y_vals[:200]\n",
        "    funcao_latex = sp.latex(funcaoEsq)  # Converte a expressão da função para formato LaTeX\n",
        "    plt.plot(x_vals_Esq, y_vals_Esq, label=f'$f(x) = {funcao_latex}$')  # Adiciona a função como legenda formatada em LaTeX\n",
        "    plt.scatter([ponto_limite], [limite], s=30, facecolors='white', edgecolors='black')\n",
        "    plt.text(ponto_limite + 0.1, limite - 0.3, f'({ponto_limite}, {limite})', fontsize=10)\n",
        "\n",
        "    x_vals, y_vals = criaXYvalues(funcaoDir, ponto_limite)\n",
        "    x_vals_Dir = x_vals[200:];\n",
        "    y_vals_Dir= y_vals[:200]\n",
        "    funcao_latex = sp.latex(funcaoDir)  # Converte a expressão da função para formato LaTeX\n",
        "    plt.plot(x_vals_Dir, y_vals_Dir, label=f'$f(x) = {funcao_latex}$')  # Adiciona a função como legenda formatada em LaTeX\n",
        "    plt.scatter([ponto_limite], [limite], s=30, facecolors='white', edgecolors='black')\n",
        "    plt.text(ponto_limite + 0.1, limite - 0.3, f'({ponto_limite}, {limite})', fontsize=10)\n",
        "    # Ativa a grade\n",
        "    plt.grid(True, which='both', axis='both', color='lightgray', linestyle='-', linewidth=0.5)\n",
        "    # Ajusta os limites dos eixos para melhor visualização\n",
        "    x_start, x_stop = criaPontoStartFinal(ponto_limite)\n",
        "    plt.xlim(x_start, x_stop)\n",
        "    plt.ylim(min(y_vals)-2, max(y_vals)+1)\n",
        "    plt.legend()  # Adiciona a legenda\n",
        "\n",
        "    plt.show()\n",
        "\n",
        "plotarGraficosEsquerdaDireita(2*x+1,x**2+1,1,calculaLimite(2*x+1,1))\n"
      ],
      "metadata": {
        "colab": {
          "base_uri": "https://localhost:8080/",
          "height": 447
        },
        "id": "ja6oBVLzc33K",
        "outputId": "6524bf8b-14b4-460d-a093-bf076b429cb0"
      },
      "execution_count": 3,
      "outputs": [
        {
          "output_type": "stream",
          "name": "stdout",
          "text": [
            "3\n"
          ]
        },
        {
          "output_type": "display_data",
          "data": {
            "text/plain": [
              "<Figure size 640x480 with 1 Axes>"
            ],
            "image/png": "[encoded data removed]"
          },
          "metadata": {}
        }
      ]
    },
    {
      "cell_type": "markdown",
      "source": [
        "\n",
        "\n",
        "### Exercício 4\n",
        "$$\\lim_{x \\to -\\infty} (\\sqrt{x^2 - x} - x)$$\n",
        "\n",
        "**Atenção**: o sympy parece não calcular este limite corretamente.\n",
        "\n",
        "#\n",
        "$$\\lim_{x \\to -\\infty} (\\sqrt{x^2 - x} - x)$$\n",
        "\n",
        "Substituindo x por infinito negativo:\n",
        "\n",
        "$$\\lim_{x \\to -\\infty} (\\sqrt{-\\infty^2 - -\\infty} - -\\infty)$$\n",
        "\n",
        "$$\\lim_{x \\to -\\infty} (\\sqrt{\\infty +\\infty} +\\infty)$$\n",
        "\n",
        "Como não é possivel continuar o calculo, tentemos simplificar a expressao original:\n",
        "\n",
        "$$\\lim_{x \\to -\\infty} (\\sqrt{x^2 - x} - x)$$\n",
        "\n",
        "$$\\lim_{x \\to -\\infty} (\\sqrt{x (x-1)} - x)$$\n",
        "\n",
        "$$\\lim_{x \\to -\\infty} (\\sqrt{x^2 .(1-\\frac{1}{x})} - x)$$\n",
        "\n",
        "$$\\lim_{x \\to -\\infty} (\\sqrt{x^2}. \\sqrt{ (1-\\frac{1}{x})} - x)$$\n",
        "\n",
        "$$\\lim_{x \\to -\\infty} (|x|. \\sqrt{ (1-\\frac{1}{x})} - x)$$\n",
        "\n",
        "Como o valor de x se aproxima de -oo, |x| é equivalente a -x:\n",
        "\n",
        "$$\\lim_{x \\to -\\infty} (-x. \\sqrt{ (1-\\frac{1}{x})} - x)$$\n",
        "\n",
        "Substituindo x por infinito negativo:\n",
        "\n",
        "$$\\lim_{x \\to -\\infty} (--\\infty. \\sqrt{ (1-\\frac{1}{-\\infty})} - -\\infty)$$\n",
        "\n",
        "$$\\lim_{x \\to -\\infty} (\\infty. \\sqrt{1} +\\infty)$$\n",
        "\n",
        "$$\\lim_{x \\to -\\infty} (\\infty+\\infty)$$\n",
        "\n",
        "$$\\lim_{x \\to -\\infty} (\\infty)$$\n",
        "\n",
        "Resposta:\n",
        "\n",
        "$$(+\\infty)$$\n",
        "\n",
        "\n",
        "\n"
      ],
      "metadata": {
        "id": "Oaec5Nc4cJtu"
      }
    },
    {
      "cell_type": "code",
      "source": [
        "import sympy as sp\n",
        "import matplotlib.pyplot as plt\n",
        "import numpy as np\n",
        "\n",
        "x = sp.symbols('x')\n",
        "expr = sympy.sqrt(x**2-x)-x\n",
        "\n",
        "x_values = np.linspace(-(10**39), -(10**69), 1000)\n",
        "\n",
        "y_values = [sp.N(expr.subs(x, val)) for val in x_values]\n",
        "\n",
        "# Plot the graph\n",
        "plt.plot(x_values, y_values)\n",
        "plt.xlabel('x')\n",
        "plt.ylabel('f(x)')\n",
        "plt.title('Plot of the expression')\n",
        "plt.grid(True)\n",
        "plt.show()"
      ],
      "metadata": {
        "colab": {
          "base_uri": "https://localhost:8080/",
          "height": 472
        },
        "id": "ZDSzgbJwrnxz",
        "outputId": "f68b91e6-c10d-4901-d640-2f76618bb16c"
      },
      "execution_count": 18,
      "outputs": [
        {
          "output_type": "display_data",
          "data": {
            "text/plain": [
              "<Figure size 640x480 with 1 Axes>"
            ],
            "image/png": "[encoded data removed]"
          },
          "metadata": {}
        }
      ]
    },
    {
      "cell_type": "code",
      "source": [
        "import sympy\n",
        "def criar_pontos_aproximacao(ponto_limite):\n",
        "  distancia=[ponto_limite*2, ponto_limite*4, ponto_limite*6, ponto_limite*8, ponto_limite*10]\n",
        "\n",
        "  pontos_direita = [ponto_limite + d for d in distancia]\n",
        "  return pontos_direita\n",
        "\n",
        "def criarAnaliseLateral(funcao,ponto_limite):\n",
        "  pontos_direita = criar_pontos_aproximacao(ponto_limite)\n",
        "  # Recalculando os valores de f(x) para os pontos à esquerda e à direita\n",
        "\n",
        "  valores_direita = [funcao.subs(x, ponto).evalf() for ponto in pontos_direita]\n",
        "  # Preparando a saída em formato de tabela novamente\n",
        "  tabela_latex = \"\\\\begin{array}{|c|c|}\\n\"\n",
        "  tabela_latex += \"\\\\hline\\n\"\n",
        "  tabela_latex += \"\\\\text{Aprox. à Direita} & \\\\text{Valor} \\\\\\\\\\n\"\n",
        "  tabela_latex += \"\\\\hline\\n\"\n",
        "\n",
        "  for i in range(len(pontos_direita)):\n",
        "    tabela_latex += f\"{pontos_direita[i]:.5f} & {valores_direita[i]:.5f} \\\\\\\\\\n\"\n",
        "  tabela_latex += \"\\\\hline\\n\"\n",
        "  tabela_latex += \"\\\\end{array}\"\n",
        "  return tabela_latex\n",
        "\n",
        "\n",
        "expr = sympy.sqrt(x**2-x)-x\n",
        "\n",
        "display(Math(criarAnaliseLateral(expr,-9*10**50)))"
      ],
      "metadata": {
        "colab": {
          "base_uri": "https://localhost:8080/",
          "height": 140
        },
        "id": "HqHghwjbeOap",
        "outputId": "ce3c125c-71b7-4583-f42e-99bb14013db0"
      },
      "execution_count": 4,
      "outputs": [
        {
          "output_type": "display_data",
          "data": {
            "text/plain": [
              "<IPython.core.display.Math object>"
            ],
            "text/latex": "$\\displaystyle \\begin{array}{|c|c|}\n\\hline\n\\text{Aprox. à Direita} & \\text{Valor} \\\\\n\\hline\n-2699999999999999915235161631530601891256259779231744.00000 & 5400000000000000000000000000000000000000000000000000.00000 \\\\\n-4499999999999999969494269034627325894077687988748288.00000 & 9000000000000000000000000000000000000000000000000000.00000 \\\\\n-6299999999999999691446377491495081670947351128178688.00000 & 12600000000000000000000000000000000000000000000000000.00000 \\\\\n-8099999999999999413398485948362837447817014267609088.00000 & 16200000000000000000000000000000000000000000000000000.00000 \\\\\n-9900000000000000464578590190146466128493737687384064.00000 & 19800000000000000000000000000000000000000000000000000.00000 \\\\\n\\hline\n\\end{array}$"
          },
          "metadata": {}
        }
      ]
    },
    {
      "cell_type": "markdown",
      "source": [
        "Com a analise lateral e do grafico, vemos que quanto mais o valor se aproxima de infinito negativo, maior e o valor de y, confirmando o calculo do limite."
      ],
      "metadata": {
        "id": "JY5pckhsrZzO"
      }
    },
    {
      "cell_type": "markdown",
      "source": [
        "\n",
        "### Exercício 5\n",
        "$$ \\lim_{x \\to \\infty} \\frac{4x^2 + 3x - 5}{2x^2 - x + 1} $$\n",
        "\n",
        "Tentando Substituir x por infinito positivo temos:\n",
        "$$\\frac{\\infty}{\\infty-\\infty}$$\n",
        "\n",
        "Como a subtração de infinitos fica uma resposta indeterminada, não é possivel apenas substituir direto.\n",
        "\n",
        "$$ \\lim_{x \\to \\infty} \\frac{4x^2 + 3x - 5}{2x^2 - x + 1} $$\n",
        "\n",
        "$$ \\lim_{x \\to \\infty} \\frac{4+ \\frac{3}{x} - \\frac{5}{x^2}}{2 - \\frac{1}{x} + \\frac{1}{x^2}} $$\n",
        "\n",
        "Partindo do princípio que:\n",
        "\n",
        "$$lim_{x \\to a} \\frac{a}{b} = \\frac{lim_{x \\to z}a}{lim_{x \\to z}b}$$\n",
        "\n",
        "Portanto:\n",
        "\n",
        "$$ \\lim_{x \\to \\infty} \\frac{4+ \\frac{3}{x} - \\frac{5}{x^2}}{2 - \\frac{1}{x} + \\frac{1}{x^2}} $$\n",
        "\n",
        "$$ \\lim_{x \\to \\infty} \\frac{\\lim_{x \\to \\infty}(4+ \\frac{3}{x} - \\frac{5}{x^2})}{\\lim_{x \\to \\infty}(2 - \\frac{1}{x} + \\frac{1}{x^2})} $$\n",
        "\n",
        "$$ \\lim_{x \\to \\infty} \\frac{4}{2} $$\n",
        "\n",
        "$$ \\lim_{x \\to \\infty} 2 $$\n",
        "\n",
        "Resposta:\n",
        "$$2$$\n",
        "\n"
      ],
      "metadata": {
        "id": "gtHUNS7FcNov"
      }
    },
    {
      "cell_type": "code",
      "source": [
        "import sympy\n",
        "def criar_pontos_aproximacao(ponto_limite):\n",
        "  distancia=[ponto_limite*2, ponto_limite*4, ponto_limite*6, ponto_limite*8, ponto_limite*10]\n",
        "\n",
        "  pontos_direita = [ponto_limite + d for d in distancia]\n",
        "  return pontos_direita\n",
        "\n",
        "def criarAnaliseLateral(funcao,ponto_limite):\n",
        "  pontos_direita = criar_pontos_aproximacao(ponto_limite)\n",
        "  # Recalculando os valores de f(x) para os pontos à esquerda e à direita\n",
        "\n",
        "  valores_direita = [funcao.subs(x, ponto).evalf() for ponto in pontos_direita]\n",
        "  # Preparando a saída em formato de tabela novamente\n",
        "  tabela_latex = \"\\\\begin{array}{|c|c|}\\n\"\n",
        "  tabela_latex += \"\\\\hline\\n\"\n",
        "  tabela_latex += \"\\\\text{Aprox. à Direita} & \\\\text{Valor} \\\\\\\\\\n\"\n",
        "  tabela_latex += \"\\\\hline\\n\"\n",
        "\n",
        "  for i in range(len(pontos_direita)):\n",
        "    tabela_latex += f\"{pontos_direita[i]:.5f} & {valores_direita[i]:.5f} \\\\\\\\\\n\"\n",
        "  tabela_latex += \"\\\\hline\\n\"\n",
        "  tabela_latex += \"\\\\end{array}\"\n",
        "  return tabela_latex\n",
        "\n",
        "\n",
        "expr = (4*x**2 +3*x-5)/(2*x**2-x+1)\n",
        "\n",
        "display(Math(criarAnaliseLateral(expr,9*10**50)))"
      ],
      "metadata": {
        "colab": {
          "base_uri": "https://localhost:8080/",
          "height": 140
        },
        "id": "ZvjBM9Kpe26-",
        "outputId": "6db03d5d-ff63-415f-ed04-74683dd87be4"
      },
      "execution_count": 5,
      "outputs": [
        {
          "output_type": "display_data",
          "data": {
            "text/plain": [
              "<IPython.core.display.Math object>"
            ],
            "text/latex": "$\\displaystyle \\begin{array}{|c|c|}\n\\hline\n\\text{Aprox. à Direita} & \\text{Valor} \\\\\n\\hline\n2699999999999999915235161631530601891256259779231744.00000 & 2.00000 \\\\\n4499999999999999969494269034627325894077687988748288.00000 & 2.00000 \\\\\n6299999999999999691446377491495081670947351128178688.00000 & 2.00000 \\\\\n8099999999999999413398485948362837447817014267609088.00000 & 2.00000 \\\\\n9900000000000000464578590190146466128493737687384064.00000 & 2.00000 \\\\\n\\hline\n\\end{array}$"
          },
          "metadata": {}
        }
      ]
    },
    {
      "cell_type": "code",
      "source": [
        "import sympy as sp\n",
        "import matplotlib.pyplot as plt\n",
        "import numpy as np\n",
        "\n",
        "x = sp.symbols('x')\n",
        "expr = (4*x**2 + 3*x - 5) / (2*x**2 - x + 1)\n",
        "\n",
        "x_values = np.linspace(-10**39, 10**39, 1000)\n",
        "\n",
        "y_values = [sp.N(expr.subs(x, val)) for val in x_values]\n",
        "\n",
        "# Plot the graph\n",
        "plt.plot(x_values, y_values)\n",
        "plt.xlabel('x')\n",
        "plt.ylabel('f(x)')\n",
        "plt.title('Plot of the expression')\n",
        "plt.grid(True)\n",
        "plt.show()"
      ],
      "metadata": {
        "colab": {
          "base_uri": "https://localhost:8080/",
          "height": 472
        },
        "id": "9ZPWu8I3e_J-",
        "outputId": "80027758-b349-419d-8dfe-64f097e74a53"
      },
      "execution_count": 6,
      "outputs": [
        {
          "output_type": "display_data",
          "data": {
            "text/plain": [
              "<Figure size 640x480 with 1 Axes>"
            ],
            "image/png": "[encoded data removed]"
          },
          "metadata": {}
        }
      ]
    },
    {
      "cell_type": "markdown",
      "source": [
        "A partir da analise do grafico e do limite, vemos que o valor, quando se aproxima do infinito positivo, o y aproxima-se de 2, confirmando o calculo do limite."
      ],
      "metadata": {
        "id": "C4YqCEwSsOzn"
      }
    },
    {
      "cell_type": "markdown",
      "source": [
        "\n",
        "**Rúbrica de avaliação**: cada limite corretamente determinado com a algebra demonstrada em notação matemática 1 ponto; cada análise consistente 1 ponto. Total 2 pontos por questão implicando em, no máximo 10 pontos."
      ],
      "metadata": {
        "id": "Hffk6Rtmhaga"
      }
    },
    {
      "cell_type": "markdown",
      "source": [
        "As análises podem ser feitas por meio da análise gráfica, ou da ánálise dos limites laterais (aproximações pela esquerda e pela direita. Serão avaliadas de acordo com o que for apresentado por cada aluno.\n"
      ],
      "metadata": {
        "id": "IhdeU66tVqpl"
      }
    }
  ]
}